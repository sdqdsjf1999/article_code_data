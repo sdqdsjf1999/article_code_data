{
 "cells": [
  {
   "cell_type": "code",
   "execution_count": 92,
   "id": "fe5ed533",
   "metadata": {},
   "outputs": [],
   "source": [
    "import pandas as pd"
   ]
  },
  {
   "cell_type": "code",
   "execution_count": 93,
   "id": "eaeb963b",
   "metadata": {},
   "outputs": [],
   "source": [
    "citycode={\n",
    "      '上海': 310000, '南京': 320100, '无锡': 320200,\n",
    "    '常州': 320400, '苏州': 320500, '南通': 320600,\n",
    "    '盐城': 320900,\n",
    "    '扬州': 321000, '镇江': 321100, '泰州': 321200,\n",
    "    '杭州': 330100, '宁波': 330200, '嘉兴': 330400, '湖州': 330500, '绍兴': 330600, '金华': 330700,\n",
    "    '舟山': 330900, '台州': 331000,\n",
    "    '合肥': 340100, '芜湖': 340200,\n",
    "    '马鞍山': 340500,  '铜陵': 340700, '安庆': 340800,\n",
    "    '滁州': 341100, '池州': 341700,\n",
    "    '宣城': 341800,\n",
    "    '北京': 110000, '天津': 120000,\n",
    "    '石家庄': 130100, '唐山': 130200,\n",
    "    '秦皇岛': 130300, '邯郸': 130400,\n",
    "    '邢台': 130500, '保定': 130600,\n",
    "    '张家口': 130700, '承德': 130800, '沧州': 130900, '廊坊': 131000, '衡水': 131100,\n",
    "    '安阳': 410500,\n",
    "    '郑州': 410100, '开封': 410200, '洛阳': 410300,\n",
    "    '平顶山': 410400, '安阳': 410500, '鹤壁': 410600,\n",
    "    '新乡': 410700, '焦作': 410800, '濮阳': 410900,\n",
    "    '许昌': 411000, '漯河': 411100, '三门峡': 411200,\n",
    "    '南阳': 411300, '商丘': 411400, '信阳': 411500, '周口': 411600, '驻马店': 411700, '济源': 419001,\n",
    "    '邯郸': 130400, '邢台': 130500,\n",
    "    '长治': 140400, '晋城': 140500, '运城': 140800, '蚌埠': 340300,\n",
    "    '淮北': 340600,\n",
    "    '阜阳': 341200,\n",
    "    '宿州': 341300, '亳州': 341600,\n",
    "    '聊城': 371500, '菏泽': 371700,\n",
    "    '广州': 440100, '深圳': 440300, '珠海': 440400, '佛山': 440600, '江门': 440700, '肇庆': 441200,\n",
    "    '惠州': 441300, '东莞': 441900, '中山': 442000,\n",
    "    '武汉': 420100, '黄石': 420200, '宜昌': 420500, '襄阳': 420600, '鄂州': 420700, '孝感': 420900,\n",
    "    '荆州': 421000, '黄冈': 421100, '咸宁': 421200, '仙桃': 429004, '潜江': 429005,\n",
    "    '天门': 429006,'长沙': 430100,\n",
    "    '株洲': 430200, '湘潭': 430300,'衡阳': 430400,\n",
    "    '岳阳': 430600, '常德': 430700,\n",
    "    '益阳': 430900, '娄底': 431300,\n",
    "    '南昌': 360100,\n",
    "    '景德镇': 360200,\n",
    "    '萍乡': 360300,\n",
    "    '九江': 360400,\n",
    "    '新余': 360500, '鹰潭': 360600,\n",
    "    '吉安': 360800,\n",
    "    '宜春': 360900,\n",
    "    '抚州': 361000,\n",
    "    '上饶': 361100,\n",
    "    '重庆': 500000,\n",
    "    '成都': 510100, '自贡': 510300, '泸州': 510500, '德阳': 510600, '绵阳': 510700, '遂宁': 510900,\n",
    "    '内江': 511000, '乐山': 511100, '南充': 511300,\n",
    "    '眉山': 511400, '宜宾': 511500, '广安': 511600,\n",
    "    '达州': 511700, '雅安': 511800, '资阳': 512000,\n",
    "    '松原': 220700,\n",
    "    '长春': 220100,\n",
    "    '吉林': 220200, '四平': 220300, '辽源': 220400,\n",
    "    '延边朝鲜族自治州': 222400,\n",
    "    '牡丹江': 231000,\n",
    "    '哈尔滨': 230100, '齐齐哈尔': 230200, '大庆': 230600, '绥化': 231200,\n",
    "    '济南': 370100, '青岛': 370200, '淄博': 370300,'枣庄': 370400,\n",
    "    '东营': 370500, '烟台': 370600,\n",
    "    '潍坊': 370700, '济宁': 370800, '泰安': 370900, '威海': 371000,\n",
    "    '日照': 371100, '临沂': 371300,\n",
    "    '德州': 371400,\n",
    "    '聊城': 371500, '滨州': 371600,\n",
    "    '菏泽': 371700,\n",
    "}"
   ]
  },
  {
   "cell_type": "code",
   "execution_count": 94,
   "id": "7f0e275d",
   "metadata": {},
   "outputs": [
    {
     "name": "stderr",
     "output_type": "stream",
     "text": [
      "/tmp/ipykernel_65478/2208240384.py:1: DtypeWarning: Columns (57,58,59,60,61,62,63,64,65,66,67,68,69,70,71,72,73,74,75,76,77,78,79,80,81,82,83,84,85,86,87,88,89,90,91,92,93,94,95,96,97,98,99,100,101,102,103,104,105,106,107,108,109,110,111,112,113,114,115,116,117,118,119,120,121,122,123,124,125,126,127,128,129,130,131,132,133,134,135,136,137,138,139,140,141,142,143,144,145,146,147,148,149,150,151,152,153,154,155,156,157,158) have mixed types. Specify dtype option on import or set low_memory=False.\n",
      "  df=pd.read_csv(\"./nlp/2020_ner.csv\")\n"
     ]
    }
   ],
   "source": [
    "df=pd.read_csv(\"./nlp/2020_ner.csv\")\n",
    "df_ner=df.iloc[:,9:]\n",
    "loc_exist={}\n",
    "\n",
    "data=df_ner.values.tolist()"
   ]
  },
  {
   "cell_type": "code",
   "execution_count": 95,
   "id": "eab23f7f",
   "metadata": {},
   "outputs": [
    {
     "name": "stdout",
     "output_type": "stream",
     "text": [
      "('02', 'TIME')\n"
     ]
    }
   ],
   "source": [
    "print(data[0][0])"
   ]
  },
  {
   "cell_type": "code",
   "execution_count": 96,
   "id": "0b3f0f7b",
   "metadata": {},
   "outputs": [],
   "source": [
    "row=[]\n",
    "col=[]\n",
    "for i in range(0,len(data)):\n",
    "    for j in range(0,len(data[i])):\n",
    "        for key in citycode:\n",
    "            if key in str(data[i][j]) and 'LOC' in str(data[i][j]):\n",
    "                row.append(i)\n",
    "                col.append(j)"
   ]
  },
  {
   "cell_type": "code",
   "execution_count": 97,
   "id": "921dfe4e",
   "metadata": {},
   "outputs": [
    {
     "name": "stdout",
     "output_type": "stream",
     "text": [
      "340340\n",
      "340340\n"
     ]
    }
   ],
   "source": [
    "print(len(row))\n",
    "print(len(col))"
   ]
  },
  {
   "cell_type": "code",
   "execution_count": 98,
   "id": "7b9e48c8",
   "metadata": {},
   "outputs": [],
   "source": [
    "loc=[]\n",
    "for i in range(0,len(row)):\n",
    "    loc.append([row[i],col[i]])"
   ]
  },
  {
   "cell_type": "code",
   "execution_count": 99,
   "id": "ba6d2a09",
   "metadata": {},
   "outputs": [],
   "source": [
    "queue=set(row)"
   ]
  },
  {
   "cell_type": "code",
   "execution_count": 100,
   "id": "e87d534a",
   "metadata": {},
   "outputs": [],
   "source": [
    "new_result={}\n",
    "for item in queue:\n",
    "    for data2 in loc:\n",
    "        if data2[0] == item:\n",
    "            if str(data2[0]) in new_result.keys():\n",
    "                new_result[str(data2[0])].append(data2[1])\n",
    "            else:\n",
    "                ins=[data2[1]]\n",
    "                new_result.update({f'{data2[0]}':ins}) "
   ]
  },
  {
   "cell_type": "code",
   "execution_count": 101,
   "id": "e51e079e",
   "metadata": {},
   "outputs": [],
   "source": [
    "for row in new_result:\n",
    "    for i in range(0,len(new_result[str(row)])):\n",
    "        col=new_result[str(row)][i]\n",
    "        value=data[int(row)][col]\n",
    "        new_result[str(row)][i] = value\n",
    "            "
   ]
  },
  {
   "cell_type": "code",
   "execution_count": 102,
   "id": "abc0b53f",
   "metadata": {},
   "outputs": [],
   "source": [
    "col_df = []\n",
    "for i in range(0,len(data)):\n",
    "    if str(i) in new_result.keys():\n",
    "        col_df.append(new_result[str(i)])\n",
    "    else:\n",
    "        col_df.append(\" \")\n"
   ]
  },
  {
   "cell_type": "code",
   "execution_count": 103,
   "id": "484b44b2",
   "metadata": {},
   "outputs": [],
   "source": [
    "for i in range(0,len(col_df)):\n",
    "    if col_df[i] == ' ':\n",
    "        continue\n",
    "    tmp = list(col_df[i])\n",
    "    dict={}\n",
    "    for item in tmp:\n",
    "        for key in citycode:\n",
    "            if (key in item) and (key in dict.keys()):\n",
    "                dict[str(key)] += 1\n",
    "            if (key in item) and (key not in dict.keys()):\n",
    "                dict.update({f'{key}':1})\n",
    "    \n",
    "    max = 0\n",
    "    for key in dict:\n",
    "        if int(dict[str(key)])> max:\n",
    "            city= key\n",
    "            max = int(dict[str(key)])\n",
    "    col_df[i] = city"
   ]
  },
  {
   "cell_type": "code",
   "execution_count": 104,
   "id": "71c7b1a3",
   "metadata": {},
   "outputs": [],
   "source": [
    "col_df=pd.DataFrame(col_df)"
   ]
  },
  {
   "cell_type": "code",
   "execution_count": 105,
   "id": "d2ecf0ba",
   "metadata": {},
   "outputs": [],
   "source": [
    "df3=pd.concat([df.iloc[:,1:8],col_df],axis=1)"
   ]
  },
  {
   "cell_type": "code",
   "execution_count": 106,
   "id": "180c64de",
   "metadata": {},
   "outputs": [],
   "source": [
    "df3.columns=['id', '微博正文', '发布时间', '发布位置', '转发数', '评论数', '点赞数', 'loc']"
   ]
  },
  {
   "cell_type": "code",
   "execution_count": 107,
   "id": "18c38f9a",
   "metadata": {},
   "outputs": [
    {
     "name": "stdout",
     "output_type": "stream",
     "text": [
      "Index(['id', '微博正文', '发布时间', '发布位置', '转发数', '评论数', '点赞数', 'loc'], dtype='object')\n"
     ]
    }
   ],
   "source": [
    "print(df3.columns)"
   ]
  },
  {
   "cell_type": "code",
   "execution_count": 108,
   "id": "ddaaacca",
   "metadata": {},
   "outputs": [
    {
     "name": "stdout",
     "output_type": "stream",
     "text": [
      "                      id                                               微博正文  \\\n",
      "6       4460955150767500  新冠肺炎不排除有限人传人可能针对早前泰国发现1例新型冠状病毒病例，武汉卫健委今天通报该患者为...   \n",
      "9       4460672613802145  孙燕姿孙燕姿就在日落以前巡回演唱会近期重要事宜汇总070520关于孙燕姿演唱会最新说明燕窝驰...   \n",
      "13      4460411837745098  凤凰新闻分享凤凰新闻武汉肺炎的罪魁祸首，原来是新型冠状病毒？武汉肺炎的罪魁祸首，原来是新型冠...   \n",
      "15      4460405235360097  武汉发现不明原因肺炎一名武汉新型冠状病毒感染者在泰国确诊该名感染者为中国游客，泰国卫生部称目...   \n",
      "16      4460403171806056  泰国现首宗武汉新型冠状病毒感染病例患者已无肺炎征状泰国出现首宗武汉新型冠状病毒感染个案，是武...   \n",
      "...                  ...                                                ...   \n",
      "841133  4468546703016244  新型冠状病毒肺炎疫情最新进展新冠病毒存在粪口传播？别慌，看完这幅漫画你就懂了近日，深圳有患者...   \n",
      "841134  4468546686154365  山东疫情防控最新情况济南身边事详情公布！济南市累计确诊29例新型冠状病毒感染的肺炎患者202...   \n",
      "841135  4468531808997593  阻击疫情，化工行业不遗余力为支援新型肺炎疫情防控工作，全力打赢疫情阻击战，各地石油和化工企业...   \n",
      "841142  4468531536238663  早安公考人每日三分钟知晓天下事国内1国家卫健委多个院士团队对武汉重症患者救治进行巡诊。武汉新...   \n",
      "841147  4468546644398407  专家方舱医院确诊患者不会交叉感染2月3日晚，3所方舱医院在武汉开建，以收治新型冠状病毒感染的...   \n",
      "\n",
      "                       发布时间 发布位置    转发数    评论数    点赞数 loc  \n",
      "6       2020-01-15 11:14:00  NaN    1.0    1.0   17.0  武汉  \n",
      "9       2020-01-14 16:31:00  NaN  237.0  818.0  943.0  北京  \n",
      "13      2020-01-13 23:15:00  NaN    0.0    0.0    0.0  武汉  \n",
      "15      2020-01-13 22:49:00  NaN    2.0    3.0    9.0  武汉  \n",
      "16      2020-01-13 22:40:00  NaN   79.0   71.0  212.0  武汉  \n",
      "...                     ...  ...    ...    ...    ...  ..  \n",
      "841133  2020-02-05 10:00:00  NaN    1.0    0.0    4.0  深圳  \n",
      "841134  2020-02-05 10:00:00  NaN    3.0    6.0   29.0  济南  \n",
      "841135  2020-02-05 09:01:00  NaN    0.0    0.0    0.0  烟台  \n",
      "841142  2020-02-05 09:00:00  NaN    0.0    0.0    0.0  武汉  \n",
      "841147  2020-02-05 10:00:00  NaN    5.0   13.0   15.0  武汉  \n",
      "\n",
      "[170791 rows x 8 columns]\n"
     ]
    }
   ],
   "source": [
    "print(df3[df3['loc'].str.len()>=2])"
   ]
  },
  {
   "cell_type": "code",
   "execution_count": 109,
   "id": "60c38b2c",
   "metadata": {},
   "outputs": [],
   "source": [
    "df3.to_csv(\"./loc_2020.csv\",sep=',',index=None)"
   ]
  },
  {
   "cell_type": "code",
   "execution_count": null,
   "id": "14dcc8bd",
   "metadata": {},
   "outputs": [],
   "source": []
  }
 ],
 "metadata": {
  "kernelspec": {
   "display_name": "Python 3 (ipykernel)",
   "language": "python",
   "name": "python3"
  },
  "language_info": {
   "codemirror_mode": {
    "name": "ipython",
    "version": 3
   },
   "file_extension": ".py",
   "mimetype": "text/x-python",
   "name": "python",
   "nbconvert_exporter": "python",
   "pygments_lexer": "ipython3",
   "version": "3.9.13"
  }
 },
 "nbformat": 4,
 "nbformat_minor": 5
}
