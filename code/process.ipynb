{
 "cells": [
  {
   "cell_type": "code",
   "execution_count": 94,
   "id": "067393fb",
   "metadata": {},
   "outputs": [
    {
     "name": "stdout",
     "output_type": "stream",
     "text": [
      "                       0                                                  1  \\\n",
      "0       4460960000000000  2020受新冠的影响，本活动中止。漫展2020，2020年05月24日昼公演。白銀奇跡白银的...   \n",
      "1       4460540000000000  军营里那一抹绿众志成城抗疫情新冠肺炎潜伏期最长24天全国累计确诊新冠肺炎37198例中国军队...   \n",
      "2       4460030000000000  尉官正年轻众志成城抗疫情新冠肺炎潜伏期最长24天尼日利亚爆发不明疾病东部战区在台岛东南部海域...   \n",
      "3       4460779824464194  2020影视电视剧1切尔诺贝利2想见你挺好看的，男主太有少年感了，女主演技超棒。关键是整个剧...   \n",
      "4       4460544310058403  军营里那一抹绿众志成城抗疫情新冠肺炎潜伏期最长24天全国累计确诊新冠肺炎37198例中国军队...   \n",
      "...                  ...                                                ...   \n",
      "841146  4468546644398407  专家方舱医院确诊患者不会交叉感染2月3日晚，3所方舱医院在武汉开建，以收治新型冠状病毒感染的...   \n",
      "841147  4468546643925141  国家卫健委专家组成员蒋荣猛目前试剂盒数量足够，已到位10万人份，主要是之前检测时间不够。这两...   \n",
      "841148  4468546643629231  随着新型冠状病毒疫情2019的不断发展，全国各方面力量都动员起来投入到了这场疫情防控的攻坚战...   \n",
      "841149  4468546643626535  试剂盒是否已经够了？国家卫健委专家组成员蒋荣猛目前试剂盒数量足够，已到位10万人份，主要是之...   \n",
      "841150  4468546640195919  发布了头条文章粪便中检测到病毒核酸意味着什么协和医生这么说粪便中检测到病毒核酸意味着什么协和...   \n",
      "\n",
      "                          2    3     4     5   6         7  \\\n",
      "0       2020-01-15 11:49:00  NaN   4.0   1.0   7  0.018037   \n",
      "1       2020-01-14 08:01:00  NaN   0.0   0.0   2  0.000002   \n",
      "2       2020-01-12 21:42:00  NaN   0.0   6.0  11  1.000000   \n",
      "3       2020-01-14 23:37:00  NaN   0.0   0.0   0  1.000000   \n",
      "4       2020-01-14 08:01:00  NaN   0.0   0.0   2  0.000002   \n",
      "...                     ...  ...   ...   ...  ..       ...   \n",
      "841146  2020-02-05 10:00:00  NaN   5.0  13.0  15       NaN   \n",
      "841147  2020-02-05 10:00:00  NaN   0.0   0.0   0       NaN   \n",
      "841148  2020-02-05 10:00:00  NaN   0.0   0.0   0       NaN   \n",
      "841149  2020-02-05 10:00:00  NaN  12.0  20.0  44       NaN   \n",
      "841150  2020-02-05 10:00:00  NaN   0.0   0.0   0       NaN   \n",
      "\n",
      "                              8         9  \n",
      "0                       culture  0.515062  \n",
      "1       mainland China politics  0.997565  \n",
      "2                 entertainment  0.928109  \n",
      "3                 entertainment  0.914150  \n",
      "4       mainland China politics  0.997565  \n",
      "...                         ...       ...  \n",
      "841146  mainland China politics  0.860680  \n",
      "841147  mainland China politics  0.842458  \n",
      "841148           financial news  0.802661  \n",
      "841149  mainland China politics  0.887110  \n",
      "841150  mainland China politics  0.998846  \n",
      "\n",
      "[841151 rows x 10 columns]\n",
      "Index(['id', '微博正文', '发布时间', '发布位置', '转发数', '评论数', '点赞数', 'senti', 'label',\n",
      "       'score'],\n",
      "      dtype='object')\n"
     ]
    }
   ],
   "source": [
    "import pandas as pd\n",
    "year=2020\n",
    "df=pd.read_csv(f\"./nlp/{year}_label.csv\",delimiter=',',header=None)\n",
    "print(df)\n",
    "df.columns=['id', '微博正文', '发布时间', '发布位置', '转发数', '评论数', '点赞数','senti','label','score']\n",
    "print(df.columns)\n",
    "df.to_csv(\"./nlp/2020_label.csv\",sep=',',index=None)"
   ]
  },
  {
   "cell_type": "code",
   "execution_count": 96,
   "id": "d55af6ed",
   "metadata": {},
   "outputs": [
    {
     "name": "stdout",
     "output_type": "stream",
     "text": [
      "                       发布时间 发布位置   转发数   评论数   点赞数 loc\n",
      "0       2020-01-15 11:49:00  NaN   4.0   1.0   7.0    \n",
      "1       2020-01-14 08:01:00  NaN   0.0   0.0   2.0    \n",
      "2       2020-01-12 21:42:00  NaN   0.0   6.0  11.0    \n",
      "3       2020-01-14 23:37:00  NaN   0.0   0.0   0.0    \n",
      "4       2020-01-14 08:01:00  NaN   0.0   0.0   2.0    \n",
      "...                     ...  ...   ...   ...   ...  ..\n",
      "841147  2020-02-05 10:00:00  NaN   5.0  13.0  15.0  武汉\n",
      "841148  2020-02-05 10:00:00  NaN   0.0   0.0   0.0    \n",
      "841149  2020-02-05 10:00:00  NaN   0.0   0.0   0.0    \n",
      "841150  2020-02-05 10:00:00  NaN  12.0  20.0  44.0    \n",
      "841151  2020-02-05 10:00:00  NaN   0.0   0.0   0.0    \n",
      "\n",
      "[841152 rows x 6 columns]\n"
     ]
    }
   ],
   "source": [
    "import pandas as pd\n",
    "year=2020\n",
    "df=pd.read_csv(f\"./loc_{year}.csv\",delimiter=',').iloc[:,1:]\n",
    "print(df)\n",
    "df.to_csv(f\"./loc_{year}.csv\",sep=',',index=None)"
   ]
  },
  {
   "cell_type": "code",
   "execution_count": 86,
   "id": "0836aa12",
   "metadata": {
    "scrolled": true
   },
   "outputs": [
    {
     "name": "stdout",
     "output_type": "stream",
     "text": [
      "Index(['id', '微博正文', '发布时间', '发布位置', '转发数', '评论数', '点赞数', 'sentiment', 'loc'], dtype='object')\n",
      "Index(['id', '微博正文', '发布时间', '发布位置', '转发数', '评论数', '点赞数', 'label', 'score'], dtype='object')\n"
     ]
    }
   ],
   "source": [
    "import pandas as pd\n",
    "year=2024\n",
    "df_ner=pd.read_csv(f\"./loc_{year}.csv\",delimiter=',')\n",
    "df_label=pd.read_csv(f\"./nlp/{year}_label.csv\",delimiter=',')\n",
    "print(df_ner.columns)\n",
    "print(df_label.columns)"
   ]
  },
  {
   "cell_type": "code",
   "execution_count": 87,
   "id": "fabbbb1a",
   "metadata": {},
   "outputs": [
    {
     "name": "stdout",
     "output_type": "stream",
     "text": [
      "17012\n",
      "17012\n"
     ]
    }
   ],
   "source": [
    "print(len(df_ner))\n",
    "print(len(df_label))"
   ]
  },
  {
   "cell_type": "code",
   "execution_count": 88,
   "id": "2cb56d55",
   "metadata": {},
   "outputs": [
    {
     "name": "stdout",
     "output_type": "stream",
     "text": [
      "id                                            5006490019038614\n",
      "微博正文         澳洲航空已同意向一名在19疫情初期指示其他人不要清洁从中国抵达的飞机后被停职并与同事隔离的员...\n",
      "发布时间                                              45350.856944\n",
      "发布位置                                                       NaN\n",
      "转发数                                                          0\n",
      "评论数                                                          0\n",
      "点赞数                                                          0\n",
      "sentiment                                             0.999005\n",
      "loc                                                           \n",
      "Name: 0, dtype: object\n",
      "id       澳洲航空已同意向一名在19疫情初期指示其他人不要清洁从中国抵达的飞机后被停职并与同事隔离的员...\n",
      "微博正文                                          45350.856944\n",
      "发布时间                                                   NaN\n",
      "发布位置                                                     0\n",
      "转发数                                                      0\n",
      "评论数                                                      0\n",
      "点赞数                                               0.999005\n",
      "label                                   International news\n",
      "score                                             0.625231\n",
      "Name: 0, dtype: object\n"
     ]
    }
   ],
   "source": [
    "print(df_ner.iloc[0])\n",
    "print(df_label.iloc[0])"
   ]
  },
  {
   "cell_type": "code",
   "execution_count": 89,
   "id": "b95d4881",
   "metadata": {},
   "outputs": [],
   "source": [
    "df_label=df_label[['label','score']]"
   ]
  },
  {
   "cell_type": "code",
   "execution_count": 90,
   "id": "43c2527f",
   "metadata": {},
   "outputs": [],
   "source": [
    "df_result=pd.concat([df_ner,df_label],axis=1)"
   ]
  },
  {
   "cell_type": "code",
   "execution_count": 91,
   "id": "924198ba",
   "metadata": {},
   "outputs": [
    {
     "name": "stdout",
     "output_type": "stream",
     "text": [
      "id                                            5006490019038614\n",
      "微博正文         澳洲航空已同意向一名在19疫情初期指示其他人不要清洁从中国抵达的飞机后被停职并与同事隔离的员...\n",
      "发布时间                                              45350.856944\n",
      "发布位置                                                       NaN\n",
      "转发数                                                          0\n",
      "评论数                                                          0\n",
      "点赞数                                                          0\n",
      "sentiment                                             0.999005\n",
      "loc                                                           \n",
      "label                                       International news\n",
      "score                                                 0.625231\n",
      "Name: 0, dtype: object\n"
     ]
    }
   ],
   "source": [
    "print(df_result.iloc[0])"
   ]
  },
  {
   "cell_type": "code",
   "execution_count": 92,
   "id": "57a54a12",
   "metadata": {},
   "outputs": [],
   "source": [
    "df_result.to_csv(\"/nas/sjf/nlp/2024_label_loc.csv\",sep=',',index=None)"
   ]
  },
  {
   "cell_type": "code",
   "execution_count": null,
   "id": "53eb7b0f",
   "metadata": {},
   "outputs": [],
   "source": []
  }
 ],
 "metadata": {
  "kernelspec": {
   "display_name": "Python 3 (ipykernel)",
   "language": "python",
   "name": "python3"
  },
  "language_info": {
   "codemirror_mode": {
    "name": "ipython",
    "version": 3
   },
   "file_extension": ".py",
   "mimetype": "text/x-python",
   "name": "python",
   "nbconvert_exporter": "python",
   "pygments_lexer": "ipython3",
   "version": "3.9.13"
  }
 },
 "nbformat": 4,
 "nbformat_minor": 5
}
